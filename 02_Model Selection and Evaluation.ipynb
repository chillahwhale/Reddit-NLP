{
 "cells": [
  {
   "cell_type": "markdown",
   "metadata": {},
   "source": [
    "# NLP Project: Subreddit Binary Text Classification \n",
    "- In this binary classification problem, I scrape data from two subreddits (*r/userexperience* and *r/UXResearch*) using [Pushshift’s API](https://github.com/pushshift/api), then use Natural Language Processing (NLP) to train for a classifier model on which subreddit a given post came from.\n",
    "- This is the second of two notebooks for this project. In this notebook, I assess various classification models and their ability to correctly classify which subreddit a post came from. Models are evaluated using accuracy.  \n",
    "---\n",
    "\n",
    "# Contents\n",
    "- [Train/Test Split & Baseline Accuracy](#Train/Test-Split-&-Baseline-Accuracy)\n",
    "- [Model 1: Logistic Regression, CountVectorizer()](#Model-1:-Logistic-Regression,-CountVectorizer())\n",
    "- [Model 2: Multinomial Naive Bayes, CountVectorizer()](#Model-2:-Multinomial-Naive-Bayes,-CountVectorizer())\n",
    "- [Model 3: Logistic Regression, TfidfVectorizer()](#Model-3:-Logistic-Regression,-TfidfVectorizer())\n",
    "- [Model 4: Logistic Regression, TfidfVectorizer() (2)](#Model-4:-Logistic-Regression,-TfidfVectorizer())\n",
    "- [Model 5: Mulitnomial NB, TfidfVectorizer()](#Model-5:-Mulitnomial-NB,-TfidfVectorizer())\n",
    "- [Model 6: Random Forest, CountVectorizer()](#Model-6:-Random-Forest,-CountVectorizer())\n",
    "- [Model 7: Random Forest, CountVectorizer() (2)](#Model-7:-Random-Forest,-CountVectorizer())\n",
    "- [Model 8: AdaBoost, CountVectorizer()](#Model-8:-AdaBoost,-CountVectorizer())\n",
    "- [Model 9: Voting Classifier, CountVectorizer()](#Model-9:-Voting-Classifier,-CountVectorizer())\n",
    "- [Conclusions](#Conclusions)\n",
    "---\n",
    "### Note: \n",
    "*The print() statement for each model includes:*\n",
    "- *best parameters*\n",
    "- *train accuracy score*\n",
    "- *test accuracy score*\n"
   ]
  },
  {
   "cell_type": "markdown",
   "metadata": {},
   "source": [
    "# Import Libraries and Load Data"
   ]
  },
  {
   "cell_type": "code",
   "execution_count": 37,
   "metadata": {},
   "outputs": [],
   "source": [
    "# the magic trio\n",
    "import numpy as np\n",
    "import pandas as pd\n",
    "import matplotlib.pyplot as plt\n",
    "%matplotlib inline\n",
    "\n",
    "# processing\n",
    "from sklearn.model_selection import train_test_split, cross_val_score, GridSearchCV\n",
    "from sklearn.pipeline import Pipeline\n",
    "from sklearn.feature_extraction.text import CountVectorizer, TfidfVectorizer\n",
    "from sklearn.feature_extraction import text \n",
    "import time\n",
    "\n",
    "# models\n",
    "from sklearn.linear_model import LogisticRegression\n",
    "from sklearn.naive_bayes import MultinomialNB, GaussianNB\n",
    "from sklearn.tree import DecisionTreeClassifier\n",
    "from sklearn.ensemble import RandomForestClassifier, ExtraTreesClassifier, GradientBoostingClassifier, AdaBoostClassifier, VotingClassifier\n",
    "from sklearn.metrics import confusion_matrix, roc_curve, roc_auc_score, accuracy_score"
   ]
  },
  {
   "cell_type": "code",
   "execution_count": 2,
   "metadata": {},
   "outputs": [
    {
     "data": {
      "text/plain": [
       "(13611, 5)"
      ]
     },
     "execution_count": 2,
     "metadata": {},
     "output_type": "execute_result"
    }
   ],
   "source": [
    "# positve (1) = userexperience\n",
    "# negative (0) = UXResearch\n",
    "df = pd.read_csv('./datasets/merged_processed.csv')\n",
    "df.shape"
   ]
  },
  {
   "cell_type": "markdown",
   "metadata": {},
   "source": [
    "# Train/Test Split & Baseline Accuracy"
   ]
  },
  {
   "cell_type": "code",
   "execution_count": null,
   "metadata": {},
   "outputs": [],
   "source": [
    "# set up X matrix and y vector\n",
    "X = df['text']\n",
    "y = df['subreddit']\n",
    "\n",
    "# train/test split\n",
    "X_train, X_test, y_train, y_test = train_test_split(X,\n",
    "                                                    y,\n",
    "                                                    stratify=y,\n",
    "                                                    random_state=42)"
   ]
  },
  {
   "cell_type": "code",
   "execution_count": 4,
   "metadata": {},
   "outputs": [
    {
     "data": {
      "text/plain": [
       "1    0.531408\n",
       "0    0.468592\n",
       "Name: subreddit, dtype: float64"
      ]
     },
     "execution_count": 4,
     "metadata": {},
     "output_type": "execute_result"
    }
   ],
   "source": [
    "# baseline accuracy\n",
    "df['subreddit'].value_counts(normalize=True)"
   ]
  },
  {
   "cell_type": "code",
   "execution_count": 5,
   "metadata": {},
   "outputs": [],
   "source": [
    "# create custom stopwords\n",
    "additional_stopwords = ['user', 'experience', 'ux']\n",
    "my_swords = text.ENGLISH_STOP_WORDS.union(additional_stopwords)\n",
    "\n",
    "# https://stackoverflow.com/questions/26826002/adding-words-to-stop-words-list-in-tfidfvectorizer-in-sklearn"
   ]
  },
  {
   "cell_type": "code",
   "execution_count": 8,
   "metadata": {},
   "outputs": [],
   "source": [
    "# create pipeline\n",
    "cpipe = Pipeline([\n",
    "    ('cvec', CountVectorizer()),\n",
    "    ('lr', LogisticRegression(max_iter=1_000, random_state=42))\n",
    "])"
   ]
  },
  {
   "cell_type": "markdown",
   "metadata": {},
   "source": [
    "## Model 1: Logistic Regression, CountVectorizer()"
   ]
  },
  {
   "cell_type": "code",
   "execution_count": 7,
   "metadata": {},
   "outputs": [
    {
     "name": "stdout",
     "output_type": "stream",
     "text": [
      "best parameters: {'cvec__ngram_range': (1, 3), 'cvec__stop_words': 'english'}\n",
      "\n",
      "train accuracy: 0.9850117554858934\n",
      "test accuracy: 0.742873934763444\n"
     ]
    }
   ],
   "source": [
    "# cvec, logreg\n",
    "cpipe_params = {\n",
    "    'cvec__stop_words': ['english', my_swords],\n",
    "    'cvec__ngram_range': [(1,1), (1,2), (1,3)],\n",
    "}\n",
    "\n",
    "gs = GridSearchCV(cpipe,\n",
    "                  cpipe_params,\n",
    "                  cv=5)\n",
    "\n",
    "gs.fit(X_train, y_train)\n",
    "gs_model = gs.best_estimator_\n",
    "\n",
    "print('best parameters:', gs.best_params_)\n",
    "print('')\n",
    "print('train accuracy:', gs_model.score(X_train, y_train))\n",
    "print('test accuracy:', gs_model.score(X_test, y_test))"
   ]
  },
  {
   "cell_type": "markdown",
   "metadata": {},
   "source": [
    "## Model 2: Multinomial Naive Bayes, CountVectorizer()"
   ]
  },
  {
   "cell_type": "code",
   "execution_count": 9,
   "metadata": {},
   "outputs": [
    {
     "name": "stdout",
     "output_type": "stream",
     "text": [
      "best parameters: {'cvec__ngram_range': (1, 3), 'cvec__stop_words': 'english'}\n",
      "\n",
      "train accuracy: 0.9695336990595611\n",
      "test accuracy: 0.7587422862180428\n"
     ]
    }
   ],
   "source": [
    "# cvec, multinomialNB\n",
    "cpipe = Pipeline([\n",
    "    ('cvec', CountVectorizer()),\n",
    "    ('mnb', MultinomialNB())\n",
    "])\n",
    "\n",
    "cpipe_params = {\n",
    "    'cvec__stop_words': ['english'],\n",
    "    'cvec__ngram_range': [(1,3)],\n",
    "}\n",
    "\n",
    "gs = GridSearchCV(cpipe,\n",
    "                  cpipe_params,\n",
    "                  cv=5)\n",
    "\n",
    "gs.fit(X_train, y_train)\n",
    "gs_model = gs.best_estimator_\n",
    "\n",
    "print('best parameters:', gs.best_params_)\n",
    "print('')\n",
    "print('train accuracy:', gs_model.score(X_train, y_train))\n",
    "print('test accuracy:', gs_model.score(X_test, y_test))"
   ]
  },
  {
   "cell_type": "markdown",
   "metadata": {},
   "source": [
    "## Model 3: Logistic Regression, TfidfVectorizer()"
   ]
  },
  {
   "cell_type": "code",
   "execution_count": 10,
   "metadata": {},
   "outputs": [],
   "source": [
    "pipe = Pipeline([\n",
    "    ('tvec', TfidfVectorizer()),\n",
    "    ('lr', LogisticRegression(max_iter=1_000, random_state=42))\n",
    "])"
   ]
  },
  {
   "cell_type": "code",
   "execution_count": 11,
   "metadata": {},
   "outputs": [
    {
     "name": "stdout",
     "output_type": "stream",
     "text": [
      "{'tvec__ngram_range': (1, 2), 'tvec__stop_words': 'english'}\n",
      "\n",
      "train accuracy: 0.9234913793103449\n",
      "test accuracy: 0.7558037026153394\n"
     ]
    }
   ],
   "source": [
    "pipe_params = {\n",
    "    'tvec__stop_words': [None, 'english'],\n",
    "    'tvec__ngram_range': [(1, 2)],\n",
    "}\n",
    "\n",
    "grid = GridSearchCV(pipe,\n",
    "                    pipe_params,\n",
    "                    cv=5)\n",
    "\n",
    "grid.fit(X_train, y_train)\n",
    "grid_model = grid.best_estimator_\n",
    "\n",
    "print(grid.best_params_)\n",
    "print('')\n",
    "print('train accuracy:', grid_model.score(X_train, y_train))\n",
    "print('test accuracy:', grid_model.score(X_test, y_test))"
   ]
  },
  {
   "cell_type": "markdown",
   "metadata": {},
   "source": [
    "## Model 4: Logistic Regression, TfidfVectorizer() \n",
    "- w/ L1 penalty"
   ]
  },
  {
   "cell_type": "code",
   "execution_count": 12,
   "metadata": {},
   "outputs": [
    {
     "name": "stdout",
     "output_type": "stream",
     "text": [
      "{'lr__penalty': 'l1', 'lr__solver': 'liblinear', 'tvec__ngram_range': (1, 2), 'tvec__stop_words': 'english'}\n",
      "\n",
      "train accuracy: 0.7400078369905956\n",
      "test accuracy: 0.7220099911842492\n"
     ]
    }
   ],
   "source": [
    "pipe_params = {\n",
    "    'tvec__stop_words': ['english'],\n",
    "    'tvec__ngram_range': [(1, 2)],\n",
    "    'lr__solver': ['liblinear'],\n",
    "    'lr__penalty': ['l1']\n",
    "\n",
    "}\n",
    "\n",
    "grid = GridSearchCV(pipe,\n",
    "                    pipe_params,\n",
    "                    cv=5)\n",
    "\n",
    "grid.fit(X_train, y_train)\n",
    "grid_model = grid.best_estimator_\n",
    "\n",
    "print(grid.best_params_)\n",
    "print('')\n",
    "print('train accuracy:', grid_model.score(X_train, y_train))\n",
    "print('test accuracy:', grid_model.score(X_test, y_test))"
   ]
  },
  {
   "cell_type": "markdown",
   "metadata": {},
   "source": [
    "## Model 5: Mulitnomial NB, TfidfVectorizer()"
   ]
  },
  {
   "cell_type": "code",
   "execution_count": 18,
   "metadata": {},
   "outputs": [
    {
     "name": "stdout",
     "output_type": "stream",
     "text": [
      "{'tvec__ngram_range': (1, 2), 'tvec__stop_words': 'english'}\n",
      "\n",
      "train accuracy: 0.9625783699059561\n",
      "test accuracy: 0.7516896855715545\n"
     ]
    }
   ],
   "source": [
    "pipe = Pipeline([\n",
    "    ('tvec', TfidfVectorizer()),\n",
    "    ('gnb', MultinomialNB())\n",
    "])\n",
    "\n",
    "pipe_params = {\n",
    "    'tvec__stop_words': ['english'],\n",
    "    'tvec__ngram_range': [(1, 2)],\n",
    "}\n",
    "\n",
    "grid = GridSearchCV(pipe,\n",
    "                    pipe_params,\n",
    "                    cv=5)\n",
    "\n",
    "grid.fit(X_train, y_train)\n",
    "grid_model = grid.best_estimator_\n",
    "\n",
    "print(grid.best_params_)\n",
    "print('')\n",
    "print('train accuracy:', grid_model.score(X_train, y_train))\n",
    "print('test accuracy:', grid_model.score(X_test, y_test))"
   ]
  },
  {
   "cell_type": "markdown",
   "metadata": {},
   "source": [
    "## Model 6: Random Forest, CountVectorizer()"
   ]
  },
  {
   "cell_type": "code",
   "execution_count": 32,
   "metadata": {},
   "outputs": [
    {
     "name": "stdout",
     "output_type": "stream",
     "text": [
      "{'cvec__ngram_range': (1, 2), 'cvec__stop_words': 'english'}\n",
      "\n",
      "train accuracy: 0.9890282131661442\n",
      "test accuracy: 0.7346459006758742\n"
     ]
    }
   ],
   "source": [
    "pipe = Pipeline([\n",
    "    ('cvec', CountVectorizer()),\n",
    "    ('rf', RandomForestClassifier(random_state=42))\n",
    "])\n",
    "\n",
    "pipe_params = {\n",
    "    'cvec__stop_words': ['english'],\n",
    "    'cvec__ngram_range': [(1,2)],\n",
    "#     'rf__max_depth': [(None, 5, 10)],\n",
    "}\n",
    "\n",
    "grid = GridSearchCV(pipe,\n",
    "                    pipe_params,\n",
    "                    cv=3)\n",
    "\n",
    "grid.fit(X_train, y_train)\n",
    "grid_model = grid.best_estimator_\n",
    "\n",
    "print(grid.best_params_)\n",
    "print('')\n",
    "print('train accuracy:', grid_model.score(X_train, y_train))\n",
    "print('test accuracy:', grid_model.score(X_test, y_test))"
   ]
  },
  {
   "cell_type": "code",
   "execution_count": 33,
   "metadata": {},
   "outputs": [
    {
     "name": "stdout",
     "output_type": "stream",
     "text": [
      "{'cvec__ngram_range': (1, 2), 'cvec__stop_words': 'english', 'rf__max_depth': None}\n",
      "\n",
      "train accuracy: 0.9890282131661442\n",
      "test accuracy: 0.7346459006758742\n"
     ]
    }
   ],
   "source": [
    "pipe = Pipeline([\n",
    "    ('cvec', CountVectorizer()),\n",
    "    ('rf', RandomForestClassifier(random_state=42))\n",
    "])\n",
    "\n",
    "pipe_params = {\n",
    "    'cvec__stop_words': ['english'],\n",
    "    'cvec__ngram_range': [(1,2)],\n",
    "    'rf__max_depth': [None, 5, 10],\n",
    "}\n",
    "\n",
    "grid = GridSearchCV(pipe,\n",
    "                    pipe_params,\n",
    "                    cv=3)\n",
    "\n",
    "grid.fit(X_train, y_train)\n",
    "grid_model = grid.best_estimator_\n",
    "\n",
    "print(grid.best_params_)\n",
    "print('')\n",
    "print('train accuracy:', grid_model.score(X_train, y_train))\n",
    "print('test accuracy:', grid_model.score(X_test, y_test))"
   ]
  },
  {
   "cell_type": "markdown",
   "metadata": {},
   "source": [
    "## Model 7: Random Forest, CountVectorizer() \n",
    "### tweaking `max_features` hyperparameter"
   ]
  },
  {
   "cell_type": "code",
   "execution_count": 34,
   "metadata": {},
   "outputs": [
    {
     "name": "stdout",
     "output_type": "stream",
     "text": [
      "{'cvec__ngram_range': (1, 3), 'cvec__stop_words': 'english', 'rf__max_depth': None, 'rf__max_features': 'sqrt'}\n",
      "\n",
      "train accuracy: 0.9890282131661442\n",
      "test accuracy: 0.7290625918307376\n"
     ]
    }
   ],
   "source": [
    "pipe = Pipeline([\n",
    "    ('cvec', CountVectorizer()),\n",
    "    ('rf', RandomForestClassifier(random_state=42))\n",
    "])\n",
    "\n",
    "pipe_params = {\n",
    "    'cvec__stop_words': ['english'],\n",
    "    'cvec__ngram_range': [(1,3)],\n",
    "    'rf__max_depth': [None],\n",
    "    'rf__max_features': ['log2', 'sqrt'],\n",
    "}\n",
    "\n",
    "grid = GridSearchCV(pipe,\n",
    "                    pipe_params,\n",
    "                    cv=3)\n",
    "\n",
    "grid.fit(X_train, y_train)\n",
    "grid_model = grid.best_estimator_\n",
    "\n",
    "print(grid.best_params_)\n",
    "print('')\n",
    "print('train accuracy:', grid_model.score(X_train, y_train))\n",
    "print('test accuracy:', grid_model.score(X_test, y_test))"
   ]
  },
  {
   "cell_type": "code",
   "execution_count": 36,
   "metadata": {},
   "outputs": [
    {
     "name": "stdout",
     "output_type": "stream",
     "text": [
      "{'cvec__ngram_range': (1, 2), 'cvec__stop_words': 'english', 'rf__max_depth': None, 'rf__max_features': 'sqrt'}\n",
      "\n",
      "train accuracy: 0.9890282131661442\n",
      "test accuracy: 0.7346459006758742\n"
     ]
    }
   ],
   "source": [
    "pipe = Pipeline([\n",
    "    ('cvec', CountVectorizer()),\n",
    "    ('rf', RandomForestClassifier(random_state=42))\n",
    "])\n",
    "\n",
    "pipe_params = {\n",
    "    'cvec__stop_words': ['english'],\n",
    "    'cvec__ngram_range': [(1,2)],\n",
    "    'rf__max_depth': [None],\n",
    "    'rf__max_features': ['sqrt'],\n",
    "}\n",
    "\n",
    "grid = GridSearchCV(pipe,\n",
    "                    pipe_params,\n",
    "                    cv=3)\n",
    "\n",
    "grid.fit(X_train, y_train)\n",
    "grid_model = grid.best_estimator_\n",
    "\n",
    "print(grid.best_params_)\n",
    "print('')\n",
    "print('train accuracy:', grid_model.score(X_train, y_train))\n",
    "print('test accuracy:', grid_model.score(X_test, y_test))"
   ]
  },
  {
   "cell_type": "code",
   "execution_count": 48,
   "metadata": {},
   "outputs": [
    {
     "name": "stdout",
     "output_type": "stream",
     "text": [
      "0.7131661674875179\n"
     ]
    },
    {
     "data": {
      "text/plain": [
       "{'max_depth': 6, 'n_estimators': 150}"
      ]
     },
     "execution_count": 48,
     "metadata": {},
     "output_type": "execute_result"
    }
   ],
   "source": [
    "gboost = GradientBoostingClassifier()\n",
    "gboost_params = {\n",
    "    'max_depth': [3,6],\n",
    "    'n_estimators': [100, 150],\n",
    "}\n",
    "gb_gs = GridSearchCV(gboost, param_grid=gboost_params, cv=3)\n",
    "gb_gs.fit(X_train, y_train)\n",
    "print(gb_gs.best_score_)\n",
    "gb_gs.best_params_"
   ]
  },
  {
   "cell_type": "markdown",
   "metadata": {},
   "source": [
    "## Model 8: AdaBoost, CountVectorizer() "
   ]
  },
  {
   "cell_type": "code",
   "execution_count": 45,
   "metadata": {},
   "outputs": [
    {
     "name": "stdout",
     "output_type": "stream",
     "text": [
      "0.6954359068887644\n"
     ]
    },
    {
     "data": {
      "text/plain": [
       "{'base_estimator__max_depth': 1, 'learning_rate': 0.9, 'n_estimators': 100}"
      ]
     },
     "execution_count": 45,
     "metadata": {},
     "output_type": "execute_result"
    }
   ],
   "source": [
    "cvec = CountVectorizer()\n",
    "X_train = cvec.fit_transform(X_train)\n",
    "X_test = cvec.transform(X_test)\n",
    "\n",
    "ada = AdaBoostClassifier(base_estimator=DecisionTreeClassifier())\n",
    "ada_params = {\n",
    "    'n_estimators': [50,100],\n",
    "    'base_estimator__max_depth': [1,2],\n",
    "    'learning_rate': [.9, .1]\n",
    "}\n",
    "gs = GridSearchCV(ada, param_grid=ada_params, cv=3)\n",
    "gs.fit(X_train, y_train)\n",
    "print(gs.best_score_)\n",
    "gs.best_params_"
   ]
  },
  {
   "cell_type": "markdown",
   "metadata": {},
   "source": [
    "## Model 9: Voting Classifier, CountVectorizer() "
   ]
  },
  {
   "cell_type": "code",
   "execution_count": 50,
   "metadata": {},
   "outputs": [
    {
     "name": "stdout",
     "output_type": "stream",
     "text": [
      "0.6960227272727273\n"
     ]
    },
    {
     "data": {
      "text/plain": [
       "{'ada__n_estimators': 125, 'gb__n_estimators': 125, 'tree__max_depth': 5}"
      ]
     },
     "execution_count": 50,
     "metadata": {},
     "output_type": "execute_result"
    }
   ],
   "source": [
    "vote = VotingClassifier([\n",
    "    ('tree', DecisionTreeClassifier()),\n",
    "    ('ada', AdaBoostClassifier()),\n",
    "    ('gb', GradientBoostingClassifier())\n",
    "])\n",
    "vote_params = {\n",
    "    'ada__n_estimators': [100, 125],\n",
    "    'ada__n_estimators': [100, 125],\n",
    "    'gb__n_estimators': [100,125],\n",
    "    'tree__max_depth': [5, 10]\n",
    "}\n",
    "gs = GridSearchCV(vote, param_grid=vote_params, cv=2)\n",
    "gs.fit(X_train, y_train)\n",
    "print(gs.best_score_)\n",
    "gs.best_params_"
   ]
  },
  {
   "cell_type": "markdown",
   "metadata": {},
   "source": [
    "# Conclusions\n",
    "- *Model #4: Logistic Regression, TfidfVectorizer* performed best\n",
    "  - Train accuracy score: 74%\n",
    "  - Test accuracy score: 72%\n",
    "  - Parameters:\n",
    "    - `stopwords: 'english'` (native to sklearn)\n",
    "    - `n-gram range: (1,2)`\n",
    "    - `solver: liblinear`\n",
    "    - `penalty: l1` (lasso regression)\n",
    "  - Analysis:\n",
    "    - Though 72% accuracy was not the best across all test sets, it was the closest to that of the train set. For other models, I was getting test scores at least 20 percentage points less than those of train scores.\n",
    "    - Therefore, I selected this model as the best as it would perform most closely with expectations on unseen data.\n",
    "    - The most notable hyperparameter adjustment was changing the penalty from the default `l2` (ridge regression) to `l1` (lasso regression). All else held equal, the train/test respectively scored 92.3%/75.6% accuracy using the `l1` penalty. Allowing the coefficients to zero out using `l2` makes the train/test accuracy scores more consistent with one another.\n",
    "- Though I would have liked to see a higher accuracy score in my best model, a 72% accuracy isn't bad considering how closely related the subreddits of choice were. Compared to the baseline accuracy (53% positive class) my best model performed 19 percentage points higher.\n",
    "- The largest challenge with this project was computing constraints. Given the complexity of some of the models and their hyperparameters, my computer wasn't able to process everything. For example, when I tried to compare the `elasticnet` and `l1` hyperparameters for Logistic Regression, my computer ran for 20+ minutes before the Jupyter kernel froze. Given sufficient time and computing resources, I believe I could continue tuning the models to get an accuracy score well above 72%."
   ]
  }
 ],
 "metadata": {
  "kernelspec": {
   "display_name": "Python 3",
   "language": "python",
   "name": "python3"
  },
  "language_info": {
   "codemirror_mode": {
    "name": "ipython",
    "version": 3
   },
   "file_extension": ".py",
   "mimetype": "text/x-python",
   "name": "python",
   "nbconvert_exporter": "python",
   "pygments_lexer": "ipython3",
   "version": "3.7.6"
  }
 },
 "nbformat": 4,
 "nbformat_minor": 4
}
